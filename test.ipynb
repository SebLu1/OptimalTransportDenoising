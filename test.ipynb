{
 "cells": [
  {
   "cell_type": "code",
   "execution_count": 2,
   "metadata": {
    "collapsed": true
   },
   "outputs": [
    {
     "name": "stderr",
     "output_type": "stream",
     "text": [
      "C:\\Users\\Seb\\Anaconda3\\envs\\rootclone\\lib\\site-packages\\matplotlib\\__init__.py:1405: UserWarning: \nThis call to matplotlib.use() has no effect because the backend has already\nbeen chosen; matplotlib.use() must be called *before* pylab, matplotlib.pyplot,\nor matplotlib.backends is imported for the first time.\n\n  warnings.warn(_use_error_msg)\n"
     ]
    }
   ],
   "source": [
    "import matplotlib.pyplot as plt\n",
    "import numpy as np\n",
    "%matplotlib inline\n",
    "\n",
    "from forward_models import ct\n",
    "from forward_models import denoising\n",
    "\n",
    "from data_pips import BSDS\n",
    "\n",
    "import tensorflow as tf\n",
    "import util as ut\n",
    "\n",
    "from networks import UNet\n",
    "from networks import binary_classifier\n",
    "from forward_models import denoising\n",
    "\n",
    "colors = 1\n",
    "\n",
    "network = UNet(size=[128,128], colors=colors)\n",
    "adv_net = binary_classifier(size=[128,128], colors=colors)\n",
    "model = ct(size=[128,128])\n",
    "\n",
    "# set placeholder for input and correct output\n",
    "true = tf.placeholder(shape=[None, 128, 128, \n",
    "                                  colors],\n",
    "                           dtype=tf.float32)\n",
    "guess = tf.placeholder(shape=[None, 128, 128, \n",
    "                                   colors],\n",
    "                        dtype=tf.float32)\n",
    "measurement = tf.placeholder(shape=[None, model.get_measurement_size()[0], \n",
    "                                         model.get_measurement_size()[1],\n",
    "                                         colors],\n",
    "                        dtype=tf.float32)\n",
    "# network output\n",
    "with tf.variable_scope('Forward_model'):\n",
    "    out = network.net(guess)\n",
    "# compute loss\n",
    "# transport loss: L2 loss squared\n",
    "with tf.variable_scope('adversarial_loss'):\n",
    "    adv = tf.reduce_mean(adv_net.net(guess))\n",
    "    transport_loss = model.tensorflow_operator(out) - measurement"
   ]
  },
  {
   "cell_type": "code",
   "execution_count": 4,
   "metadata": {},
   "outputs": [
    {
     "name": "stdout",
     "output_type": "stream",
     "text": [
      "Forward_model/conv1/kernel:0\nForward_model/conv1/bias:0\nForward_model/conv2/kernel:0\nForward_model/conv2/bias:0\nForward_model/conv3/kernel:0\nForward_model/conv3/bias:0\nForward_model/deconv1/kernel:0\nForward_model/deconv1/bias:0\nForward_model/deconv2/kernel:0\nForward_model/deconv2/bias:0\nForward_model/deconv3/kernel:0\nForward_model/deconv3/bias:0\n"
     ]
    }
   ],
   "source": [
    "for i in tf.get_collection(tf.GraphKeys.GLOBAL_VARIABLES, scope='Forward_model'):\n",
    "    print(i.name)"
   ]
  }
 ],
 "metadata": {
  "kernelspec": {
   "display_name": "Python 2",
   "language": "python",
   "name": "python2"
  },
  "language_info": {
   "codemirror_mode": {
    "name": "ipython",
    "version": 2.0
   },
   "file_extension": ".py",
   "mimetype": "text/x-python",
   "name": "python",
   "nbconvert_exporter": "python",
   "pygments_lexer": "ipython2",
   "version": "2.7.6"
  }
 },
 "nbformat": 4,
 "nbformat_minor": 0
}